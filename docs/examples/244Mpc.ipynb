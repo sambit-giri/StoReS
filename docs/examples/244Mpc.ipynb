{
 "cells": [
  {
   "cell_type": "markdown",
   "metadata": {},
   "source": [
    "# 244 Mpc/h \n",
    "\n",
    "Here we download and analyse the simulation data produced in for a cosmological volume of size 244/h Mpc in each direction. "
   ]
  },
  {
   "cell_type": "code",
   "execution_count": 1,
   "metadata": {},
   "outputs": [],
   "source": [
    "import numpy as np \n",
    "import matplotlib.pyplot as plt \n",
    "import pickle, os\n",
    "from glob import glob\n",
    "from StoReS import * \n",
    "import tools21cm as t2c \n",
    "from tqdm import tqdm "
   ]
  },
  {
   "cell_type": "markdown",
   "metadata": {},
   "source": [
    "## N-body simulation with 244 Mpc/h in each direction"
   ]
  },
  {
   "cell_type": "markdown",
   "metadata": {},
   "source": [
    "Cosmology of the simulation:\n",
    "\n",
    "$\\Omega_\\mathrm{m} = 0.27$, $\\Omega_\\mathrm{b} = 0.044$, $h_\\mathrm{0} = 0.7$, $\\sigma_\\mathrm{8} = 0.8$, $n_\\mathrm{s} = 0.96$"
   ]
  },
  {
   "cell_type": "markdown",
   "metadata": {},
   "source": [
    "We define the box length and the path to the folder for downloading the data."
   ]
  },
  {
   "cell_type": "code",
   "execution_count": 2,
   "metadata": {},
   "outputs": [],
   "source": [
    "box_len  = 244/0.7\n",
    "save_dir = './work/'\n",
    "eor_hist = {}"
   ]
  },
  {
   "cell_type": "markdown",
   "metadata": {},
   "source": [
    "### Density fields - 244 Mpc/h\n",
    "N-Body (CUBEP3M) snapshots will be downloaded."
   ]
  },
  {
   "cell_type": "code",
   "execution_count": 3,
   "metadata": {},
   "outputs": [
    {
     "name": "stderr",
     "output_type": "stream",
     "text": [
      "77it [00:07, 10.79it/s]"
     ]
    },
    {
     "name": "stdout",
     "output_type": "stream",
     "text": [
      "Data saved in ./work/density/\n"
     ]
    },
    {
     "name": "stderr",
     "output_type": "stream",
     "text": [
      "\n"
     ]
    }
   ],
   "source": [
    "dn_url = 'https://ttt.astro.su.se/~gmell/244Mpc/densities/nc250/coarser_densities/'\n",
    "url_dict = {'dens': dn_url}\n",
    "c2r = C2RAY(work_dir={'dens': save_dir+'density/'}, verbose=False)\n",
    "c2r.set_links(url_dict)\n",
    "zs = c2r.zs_dict['dens']\n",
    "for i,z in tqdm(enumerate(zs)):\n",
    "    dn, ff = c2r.get_density_data_z(z)\n",
    "    # os.remove(ff)\n",
    "print('Data saved in {}'.format(c2r.work_dir['dens']))"
   ]
  },
  {
   "cell_type": "markdown",
   "metadata": {},
   "source": [
    "## 244Mpc/h Reionisation Simulation Suite"
   ]
  },
  {
   "cell_type": "markdown",
   "metadata": {},
   "source": [
    "### LB1 \n",
    "This simulation models the reionization process assuming spin saturation ($T_{S}\\gg T_{CMB}$). is described in See [Dixon et al. (2016)](https://arxiv.org/abs/1512.03836) the detailed description. "
   ]
  },
  {
   "cell_type": "code",
   "execution_count": 4,
   "metadata": {},
   "outputs": [],
   "source": [
    "xf_url = 'https://ttt.astro.su.se/~gmell/244Mpc/LB1/'\n",
    "dn_url = 'https://ttt.astro.su.se/~gmell/244Mpc/densities/nc250/coarser_densities/'\n",
    "url_dict = {'xfrac': xf_url, 'dens': dn_url, }\n",
    "c2r = C2RAY(work_dir={'dens': save_dir+'density/', 'xfrac': save_dir+'LB1/'}, verbose=False)\n",
    "c2r.set_links(url_dict)\n",
    "zs = np.intersect1d(c2r.zs_dict['xfrac'], c2r.zs_dict['dens'])\n",
    "xs = []\n",
    "for i,z in tqdm(enumerate(zs)):\n",
    "    data = c2r.get_data_z(z)\n",
    "    xf = data['xfrac']\n",
    "    dn = data['dens']\n",
    "    xs.append(xf.mean())\n",
    "    # os.remove(data['xfrac_filename'])\n",
    "    # os.remove(data['dens_filename'])\n",
    "xs = np.array(xs)\n",
    "eor_hist['LB1'] = {'z': zs, 'x': xs}\n",
    "print('Data saved in {}'.format(c2r.work_dir['xfrac']))"
   ]
  },
  {
   "cell_type": "markdown",
   "metadata": {},
   "source": [
    "### LB2\n",
    "This simulation models the reionization process assuming spin saturation ($T_{S}\\gg T_{CMB}$). is described in See [Dixon et al. (2016)](https://arxiv.org/abs/1512.03836) the detailed description. "
   ]
  },
  {
   "cell_type": "code",
   "execution_count": 5,
   "metadata": {},
   "outputs": [],
   "source": [
    "xf_url = 'https://ttt.astro.su.se/~gmell/244Mpc/LB2/'\n",
    "dn_url = 'https://ttt.astro.su.se/~gmell/244Mpc/densities/nc250/coarser_densities/'\n",
    "url_dict = {'xfrac': xf_url, 'dens': dn_url, }\n",
    "c2r = C2RAY(work_dir={'dens': save_dir+'density/', 'xfrac': save_dir+'LB2/'}, verbose=False)\n",
    "c2r.set_links(url_dict)\n",
    "zs = np.intersect1d(c2r.zs_dict['xfrac'], c2r.zs_dict['dens'])\n",
    "xs = []\n",
    "for i,z in tqdm(enumerate(zs)):\n",
    "    data = c2r.get_data_z(z)\n",
    "    xf = data['xfrac']\n",
    "    dn = data['dens']\n",
    "    xs.append(xf.mean())\n",
    "    # os.remove(data['xfrac_filename'])\n",
    "    # os.remove(data['dens_filename'])\n",
    "xs = np.array(xs)\n",
    "eor_hist['LB2'] = {'z': zs, 'x': xs}\n",
    "print('Data saved in {}'.format(c2r.work_dir['xfrac']))"
   ]
  },
  {
   "cell_type": "markdown",
   "metadata": {},
   "source": [
    "### LB3\n",
    "This simulation models the reionization process assuming spin saturation ($T_{S}\\gg T_{CMB}$). is described in See [Dixon et al. (2016)](https://arxiv.org/abs/1512.03836) the detailed description. "
   ]
  },
  {
   "cell_type": "code",
   "execution_count": 6,
   "metadata": {},
   "outputs": [],
   "source": [
    "xf_url = 'https://ttt.astro.su.se/~gmell/244Mpc/LB3/'\n",
    "dn_url = 'https://ttt.astro.su.se/~gmell/244Mpc/densities/nc250/coarser_densities/'\n",
    "url_dict = {'xfrac': xf_url, 'dens': dn_url, }\n",
    "c2r = C2RAY(work_dir={'dens': save_dir+'density/', 'xfrac': save_dir+'LB3/'}, verbose=False)\n",
    "c2r.set_links(url_dict)\n",
    "zs = np.intersect1d(c2r.zs_dict['xfrac'], c2r.zs_dict['dens'])\n",
    "xs = []\n",
    "for i,z in tqdm(enumerate(zs)):\n",
    "    data = c2r.get_data_z(z)\n",
    "    xf = data['xfrac']\n",
    "    dn = data['dens']\n",
    "    xs.append(xf.mean())\n",
    "    # os.remove(data['xfrac_filename'])\n",
    "    # os.remove(data['dens_filename'])\n",
    "xs = np.array(xs)\n",
    "eor_hist['LB3'] = {'z': zs, 'x': xs}\n",
    "print('Data saved in {}'.format(c2r.work_dir['xfrac']))"
   ]
  },
  {
   "cell_type": "markdown",
   "metadata": {},
   "source": [
    "### LB4\n",
    "This simulation models the reionization process assuming spin saturation ($T_{S}\\gg T_{CMB}$). is described in See [Dixon et al. (2016)](https://arxiv.org/abs/1512.03836) the detailed description. "
   ]
  },
  {
   "cell_type": "code",
   "execution_count": 7,
   "metadata": {},
   "outputs": [],
   "source": [
    "xf_url = 'https://ttt.astro.su.se/~gmell/244Mpc/LB4/'\n",
    "dn_url = 'https://ttt.astro.su.se/~gmell/244Mpc/densities/nc250/coarser_densities/'\n",
    "url_dict = {'xfrac': xf_url, 'dens': dn_url, }\n",
    "c2r = C2RAY(work_dir={'dens': save_dir+'density/', 'xfrac': save_dir+'LB4/'}, verbose=False)\n",
    "c2r.set_links(url_dict)\n",
    "zs = np.intersect1d(c2r.zs_dict['xfrac'], c2r.zs_dict['dens'])\n",
    "xs = []\n",
    "for i,z in tqdm(enumerate(zs)):\n",
    "    data = c2r.get_data_z(z)\n",
    "    xf = data['xfrac']\n",
    "    dn = data['dens']\n",
    "    xs.append(xf.mean())\n",
    "    # os.remove(data['xfrac_filename'])\n",
    "    # os.remove(data['dens_filename'])\n",
    "xs = np.array(xs)\n",
    "eor_hist['LB4'] = {'z': zs, 'x': xs}\n",
    "print('Data saved in {}'.format(c2r.work_dir['xfrac']))"
   ]
  },
  {
   "cell_type": "markdown",
   "metadata": {},
   "source": [
    "## Reionization history of the above simulations"
   ]
  },
  {
   "cell_type": "code",
   "execution_count": 8,
   "metadata": {},
   "outputs": [
    {
     "data": {
      "image/png": "[encoded data removed]",
      "text/plain": [
       "<Figure size 504x432 with 1 Axes>"
      ]
     },
     "metadata": {
      "needs_background": "light"
     },
     "output_type": "display_data"
    }
   ],
   "source": [
    "fig, ax = plt.subplots(1,1,figsize=(7,6))\n",
    "# fig.suptitle('Dixon et al. (2016)')\n",
    "ax.plot(eor_hist['LB1']['z'], 1-eor_hist['LB1']['x'], lw=3, ls='-',  label='LB1')\n",
    "ax.plot(eor_hist['LB2']['z'], 1-eor_hist['LB2']['x'], lw=3, ls='--', label='LB2')\n",
    "ax.plot(eor_hist['LB3']['z'], 1-eor_hist['LB3']['x'], lw=3, ls='-.', label='LB3')\n",
    "ax.plot(eor_hist['LB4']['z'], 1-eor_hist['LB4']['x'], lw=3, ls=':',  label='LB4')\n",
    "ax.set_xlabel('z', fontsize=14)\n",
    "ax.set_ylabel('$x_\\mathrm{HI}$', fontsize=14)\n",
    "ax.legend()\n",
    "ax.axis([6,14,-0.01,1.01])\n",
    "plt.tight_layout()\n",
    "plt.show()"
   ]
  },
  {
   "cell_type": "markdown",
   "metadata": {},
   "source": [
    "## Power spectrum at z=6.9 from LB1"
   ]
  },
  {
   "cell_type": "code",
   "execution_count": 9,
   "metadata": {},
   "outputs": [
    {
     "name": "stdout",
     "output_type": "stream",
     "text": [
      "Downloading simulation...\n",
      "100% [..................................................] 125000028 / 125000028...done\n",
      "The file already exists.\n"
     ]
    }
   ],
   "source": [
    "xf_url = 'https://ttt.astro.su.se/~gmell/244Mpc/LB1/'\n",
    "dn_url = 'https://ttt.astro.su.se/~gmell/244Mpc/densities/nc250/coarser_densities/'\n",
    "url_dict = {'dens': dn_url, 'xfrac': xf_url}\n",
    "\n",
    "c2r = C2RAY(work_dir={'dens': save_dir+'density/', 'xfrac': save_dir+'LB1/'})\n",
    "c2r.set_links(url_dict)\n",
    "z = 6.905\n",
    "data = c2r.get_data_z(z)\n",
    "xf = data['xfrac']\n",
    "dn = data['dens']\n"
   ]
  },
  {
   "cell_type": "code",
   "execution_count": 11,
   "metadata": {},
   "outputs": [],
   "source": [
    "dt = t2c.calc_dt(xf, dn, z=z)\n",
    "ps, ks = t2c.power_spectrum_1d(dt, kbins=20, box_dims=box_len)"
   ]
  },
  {
   "cell_type": "code",
   "execution_count": 12,
   "metadata": {},
   "outputs": [
    {
     "data": {
      "image/png": "[encoded data removed]",
      "text/plain": [
       "<Figure size 504x432 with 1 Axes>"
      ]
     },
     "metadata": {
      "needs_background": "light"
     },
     "output_type": "display_data"
    }
   ],
   "source": [
    "fig, ax = plt.subplots(1,1,figsize=(7,6))\n",
    "fig.suptitle('LB1')\n",
    "ax.loglog(ks, ps*ks**3/2/np.pi**2, lw=3, ls='-',  label='z={:.1f}'.format(z))\n",
    "ax.set_xlabel('k [1/Mpc]', fontsize=14)\n",
    "ax.set_ylabel('$\\Delta^2_\\mathrm{21}$ [mK$^2$]', fontsize=14)\n",
    "ax.legend()\n",
    "# ax.axis([6,14,-0.01,1.01])\n",
    "plt.tight_layout()\n",
    "plt.show()"
   ]
  }
 ],
 "metadata": {
  "kernelspec": {
   "display_name": "Python 3 (ipykernel)",
   "language": "python",
   "name": "python3"
  },
  "language_info": {
   "codemirror_mode": {
    "name": "ipython",
    "version": 3
   },
   "file_extension": ".py",
   "mimetype": "text/x-python",
   "name": "python",
   "nbconvert_exporter": "python",
   "pygments_lexer": "ipython3",
   "version": "3.10.9"
  }
 },
 "nbformat": 4,
 "nbformat_minor": 4
}
